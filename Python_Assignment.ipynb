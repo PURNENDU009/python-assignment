{
  "nbformat": 4,
  "nbformat_minor": 0,
  "metadata": {
    "colab": {
      "provenance": []
    },
    "kernelspec": {
      "name": "python3",
      "display_name": "Python 3"
    },
    "language_info": {
      "name": "python"
    }
  },
  "cells": [
    {
      "cell_type": "code",
      "execution_count": null,
      "metadata": {
        "id": "wIVW_rKVWXnu"
      },
      "outputs": [],
      "source": []
    },
    {
      "cell_type": "markdown",
      "source": [
        "#1) Explain the key features of Python that make it a popular choice for programming.\n",
        "Ans : Python is a widely loved programming language because of a mix of simplicity, versatility, and powerful features. Here are the key features that make it so popular:\n",
        "1: Ease of learning\n",
        "2: versatility\n",
        "3: Ease to read and write\n",
        "4: A lot of libraries\n",
        "5: A huge active community\n",
        "\n",
        "#2) Describe the role of predefined keywords in Python and provide examples of how they are used in a program.\n",
        "Ans: In Python predefined keywords are special words that the language reserves for its own use. These keywords have specific meanings and cannot be used as variable names, function names, or identifiers.\n",
        "Here are some key words of Python and its example.\n",
        "if , false , true , from , etc...\n"
      ],
      "metadata": {
        "id": "2vhP_WsiWieZ"
      }
    },
    {
      "cell_type": "code",
      "source": [
        "x = 10\n",
        "if x > 5:\n",
        "    print(\"positive\")"
      ],
      "metadata": {
        "colab": {
          "base_uri": "https://localhost:8080/"
        },
        "id": "T5lVaiGHBcG-",
        "outputId": "91f6a705-bd42-41db-dfc3-6e154b05fd9a"
      },
      "execution_count": 5,
      "outputs": [
        {
          "output_type": "stream",
          "name": "stdout",
          "text": [
            "positive\n"
          ]
        }
      ]
    },
    {
      "cell_type": "markdown",
      "source": [
        "# 3) Compare and contrast mutable and immutable objects in Python with examples?\n",
        "\n",
        "Ans: Mutable Objects:- Objects/container whose state or value can be changed after they are created are called mutable objects.\n",
        "\n",
        "Ex- List is a type of mutable object."
      ],
      "metadata": {
        "id": "J53edlNiSGaz"
      }
    },
    {
      "cell_type": "code",
      "source": [
        "list_cont  = [1, 2, 2.3, 5+6j, \"Ajay\", True]\n",
        "list_cont"
      ],
      "metadata": {
        "colab": {
          "base_uri": "https://localhost:8080/"
        },
        "id": "oSPyuy0Zchey",
        "outputId": "39ad2255-41dc-4257-9327-360c7e407a20"
      },
      "execution_count": 7,
      "outputs": [
        {
          "output_type": "execute_result",
          "data": {
            "text/plain": [
              "[1, 2, 2.3, (5+6j), 'Ajay', True]"
            ]
          },
          "metadata": {},
          "execution_count": 7
        }
      ]
    },
    {
      "cell_type": "code",
      "source": [
        "list_cont[4] = \"Tiku\"\n",
        "list_cont"
      ],
      "metadata": {
        "colab": {
          "base_uri": "https://localhost:8080/"
        },
        "id": "FWtGfWNrdj0P",
        "outputId": "ba4f490f-dbbd-417c-dc93-c892de3dccc1"
      },
      "execution_count": 8,
      "outputs": [
        {
          "output_type": "execute_result",
          "data": {
            "text/plain": [
              "[1, 2, 2.3, (5+6j), 'Tiku', True]"
            ]
          },
          "metadata": {},
          "execution_count": 8
        }
      ]
    },
    {
      "cell_type": "code",
      "source": [],
      "metadata": {
        "id": "7DjYscbJd_Xp"
      },
      "execution_count": null,
      "outputs": []
    },
    {
      "cell_type": "markdown",
      "source": [
        "Immutable objects:- Objects/container whose state or value can not be changed after they are created are called immutable objects.\n",
        "\n",
        "Ex- String is a type of immutable object."
      ],
      "metadata": {
        "id": "vq0iV4dkeSXj"
      }
    },
    {
      "cell_type": "code",
      "source": [
        "t = \"Tiku\"\n",
        "t"
      ],
      "metadata": {
        "colab": {
          "base_uri": "https://localhost:8080/",
          "height": 36
        },
        "id": "X9uvF9Y6e56i",
        "outputId": "6ccd36e2-0845-432b-c3ae-05f84b09ccc2"
      },
      "execution_count": 9,
      "outputs": [
        {
          "output_type": "execute_result",
          "data": {
            "text/plain": [
              "'Tiku'"
            ],
            "application/vnd.google.colaboratory.intrinsic+json": {
              "type": "string"
            }
          },
          "metadata": {},
          "execution_count": 9
        }
      ]
    },
    {
      "cell_type": "code",
      "source": [
        "t[1]"
      ],
      "metadata": {
        "colab": {
          "base_uri": "https://localhost:8080/",
          "height": 36
        },
        "id": "rxdq7Cz-fcIA",
        "outputId": "20ee5358-5fe5-42a8-9b33-67a8d92185f2"
      },
      "execution_count": 10,
      "outputs": [
        {
          "output_type": "execute_result",
          "data": {
            "text/plain": [
              "'i'"
            ],
            "application/vnd.google.colaboratory.intrinsic+json": {
              "type": "string"
            }
          },
          "metadata": {},
          "execution_count": 10
        }
      ]
    },
    {
      "cell_type": "code",
      "source": [
        "t[1] = \"j\""
      ],
      "metadata": {
        "colab": {
          "base_uri": "https://localhost:8080/",
          "height": 141
        },
        "id": "z-VVBE4fflsv",
        "outputId": "9cbb5600-0e10-4512-fb67-ab42e3eb6426"
      },
      "execution_count": 12,
      "outputs": [
        {
          "output_type": "error",
          "ename": "TypeError",
          "evalue": "'str' object does not support item assignment",
          "traceback": [
            "\u001b[0;31m---------------------------------------------------------------------------\u001b[0m",
            "\u001b[0;31mTypeError\u001b[0m                                 Traceback (most recent call last)",
            "\u001b[0;32m<ipython-input-12-88c6c9392f43>\u001b[0m in \u001b[0;36m<cell line: 0>\u001b[0;34m()\u001b[0m\n\u001b[0;32m----> 1\u001b[0;31m \u001b[0mt\u001b[0m\u001b[0;34m[\u001b[0m\u001b[0;36m1\u001b[0m\u001b[0;34m]\u001b[0m \u001b[0;34m=\u001b[0m \u001b[0;34m\"j\"\u001b[0m\u001b[0;34m\u001b[0m\u001b[0;34m\u001b[0m\u001b[0m\n\u001b[0m",
            "\u001b[0;31mTypeError\u001b[0m: 'str' object does not support item assignment"
          ]
        }
      ]
    },
    {
      "cell_type": "markdown",
      "source": [],
      "metadata": {
        "id": "qbUTmR0rf6q7"
      }
    },
    {
      "cell_type": "markdown",
      "source": [
        "# 4) Discuss the different types of operators in Python and provide examples of how they are used?\n",
        "Ans: There are 7 types of operator in python.\n",
        "     Those are\n",
        "Arithmetic: +, -, *, /, etc.\n",
        "\n",
        "Assignment: =, +=, *=, etc.\n",
        "\n",
        "Comparison: ==, !=, >, <, etc.\n",
        "\n",
        "Logical: and, or, not\n",
        "\n",
        "Bitwise: &, |, ^, etc.\n",
        "\n",
        "Membership: in, not in\n",
        "\n",
        "Identity: is, is not\n",
        "\n",
        "Example"
      ],
      "metadata": {
        "id": "tXdxv3bpgRom"
      }
    },
    {
      "cell_type": "markdown",
      "source": [
        "A. Arithmetic Operators\n",
        "Used to perform basic mathematical operations.\n",
        "Operator\tDescription\tExample\n",
        "+\tAddition\t3 + 2 = 5\n",
        "-\tSubtraction\t5 - 1 = 4\n",
        "*\tMultiplication\t4 * 2 = 8\n",
        "/\tDivision\t10 / 2 = 5.0\n",
        "//\tFloor division\t7 // 2 = 3\n",
        "%\tModulus (remainder)\t7 % 2 = 1\n",
        "**\tExponentiation\t2 ** 3 = 8\n",
        "Example:\n",
        "a = 10\n",
        "b = 3\n",
        "print(a + b)  # 13\n",
        "print(a % b)  # 1\n",
        "\n",
        "B. Comparison (Relational) Operators\n",
        "Used to compare values, return True or False.\n",
        "Operator\tDescription\tExample\n",
        "==\tEqual to\t5 == 5 → True\n",
        "!=\tNot equal to\t5 != 3 → True\n",
        ">\tGreater than\t4 > 3 → True\n",
        "<\tLess than\t2 < 5 → True\n",
        ">=\tGreater than or equal\t4 >= 4 → True\n",
        "<=\tLess than or equal\t5 <= 6 → True\n",
        "C. Logical Operators\n",
        "Used to combine conditional statements.\n",
        "Operator\tDescription\tExample\n",
        "and\tTrue if both conditions are True\tx > 3 and x < 10\n",
        "or\tTrue if at least one is True\tx > 5 or x == 3\n",
        "not\tReverses the result\tnot(x > 3)\n",
        "\n",
        "Example:\n",
        "x = 7\n",
        "print(x > 5 and x < 10)  # True\n",
        "print(not x == 7)            # False\n",
        "\n",
        "D. Assignment Operators\n",
        "Used to assign values to variables, sometimes combined with arithmetic.\n",
        "Operator\tExample\tEquivalent To\n",
        "=\tx = 5\tassigns 5 to x\n",
        "+=\tx += 3\tx = x + 3\n",
        "-=\tx -= 2\tx = x - 2\n",
        "*=\tx *= 4\tx = x * 4\n",
        "/=\tx /= 2\tx = x / 2\n",
        "//=\tx //= 2\tx = x // 2\n",
        "%=\tx %= 2\tx = x % 2\n",
        "\n",
        "E. Bitwise Operators\n",
        "Operate at the binary level.\n",
        "Operator\tName\tExample\n",
        "&\tAND\t5 & 3 = 1\n",
        "`\t`\tOR\n",
        "^\tXOR\t5 ^ 3 = 6\n",
        "~\tNOT\t~5 = -6\n",
        "<<\tLeft Shift\t5 << 1 = 10\n",
        ">>\tRight Shift\t5 >> 1 = 2\n",
        "\n",
        "F. Membership Operators\n",
        "Check for presence in a sequence (like list, string, etc.).\n",
        "Operator\tDescription\tExample\n",
        "in\tTrue if present\t'a' in 'apple' → True\n",
        "not in\tTrue if not present\t4 not in [1,2,3] → True\n",
        "\n",
        "G. Identity Operators\n",
        "Check whether two variables refer to the same object in memory.\n",
        "Operator\tDescription\tExample\n",
        "is\tTrue if same object\tx is y\n",
        "is not\tTrue if not the same object\tx is not y\n",
        "\n",
        "\n"
      ],
      "metadata": {
        "id": "xW1TsBOkuiwb"
      }
    },
    {
      "cell_type": "code",
      "source": [],
      "metadata": {
        "id": "qs0b6hmNpB0r"
      },
      "execution_count": null,
      "outputs": []
    },
    {
      "cell_type": "markdown",
      "source": [
        "#5 Explain the concept of type casting in Python with examples?\n",
        "Ans: Type casting means converting one data type into another, like turning a string into an integer or a float into a string.\n",
        "Python provides built-in functions for this.\n",
        "Common Type Casting Functions:\n",
        "Function\tConverts To\n",
        "int()\tInteger\n",
        "float()\tFloating point\n",
        "str()\tString\n",
        "bool()\tBoolean\n",
        "list()\tList\n",
        "tuple()\tTuple\n",
        "\n",
        "Examples\n",
        "•\tString to Integer\n",
        "x = \"10\"\n",
        "y = int(x)\n",
        "print(y + 5)  # Output: 15\n",
        "\n",
        "•\tFloat to Integer\n",
        "num = 9.8\n",
        "converted = int(num)\n",
        "print(converted)  # Output: 9 (decimal is dropped, not rounded)\n",
        "\n",
        "•\tInteger to Float\n",
        "a = 7\n",
        "b = float(a)\n",
        "print(b)  # Output: 7.0\n",
        "\n",
        "•\tInteger to String\n",
        "age = 25\n",
        "message = \"I am \" + str(age) + \" years old.\"\n",
        "print(message)\n",
        "\n",
        "\n",
        "•\tString to Float\n",
        "price = \"19.99\"\n",
        "converted_price = float(price)\n",
        "print(converted_price + 5)  # Output: 24.99\n",
        "•\tBoolean to Integer\n",
        "\n",
        "print(int(True))   # Output: 1\n",
        "print(int(False))  # Output: 0\n",
        "\n"
      ],
      "metadata": {
        "id": "n5r72XbGvLk-"
      }
    },
    {
      "cell_type": "markdown",
      "source": [
        "#6 How do conditional statements work in Python? Illustrate with examples.\n",
        "Ans: Conditional statements in Python allow you to execute certain blocks of code based on whether a condition is true or false. The main conditional statements in Python are:\n",
        "1. if\n",
        "2. elif (short for \"else if\")\n",
        "3. else\n",
        "\n",
        "EXAMPLES:\n"
      ],
      "metadata": {
        "id": "rMDtWwYavwc2"
      }
    },
    {
      "cell_type": "code",
      "source": [
        "1.\tSimple if Statement"
      ],
      "metadata": {
        "id": "eKk1V94JwJnJ"
      },
      "execution_count": null,
      "outputs": []
    },
    {
      "cell_type": "code",
      "source": [
        "\tx = 10\n",
        "\tif x > 5:\n",
        "  print (\"x is greater than 5\")"
      ],
      "metadata": {
        "colab": {
          "base_uri": "https://localhost:8080/"
        },
        "id": "dNo8L7EBwYA8",
        "outputId": "dbb75845-e81f-4026-82e0-441a2717961a"
      },
      "execution_count": 20,
      "outputs": [
        {
          "output_type": "stream",
          "name": "stdout",
          "text": [
            "x is greater than 5\n"
          ]
        }
      ]
    },
    {
      "cell_type": "code",
      "source": [
        "2. if...else Statement"
      ],
      "metadata": {
        "id": "L8yp_Q4YwYDt"
      },
      "execution_count": null,
      "outputs": []
    },
    {
      "cell_type": "code",
      "source": [
        "age = 16\n",
        "\n",
        "if age >= 18:\n",
        "    print (\"You can vote!\")\n",
        "else:\n",
        "    print (\"You are too young to vote.\")\n"
      ],
      "metadata": {
        "colab": {
          "base_uri": "https://localhost:8080/"
        },
        "id": "CecFhr_EwYIN",
        "outputId": "b0987b0e-ade7-46b7-91f5-3a6ce4c4e147"
      },
      "execution_count": 21,
      "outputs": [
        {
          "output_type": "stream",
          "name": "stdout",
          "text": [
            "You are too young to vote.\n"
          ]
        }
      ]
    },
    {
      "cell_type": "code",
      "source": [
        "3. if...elif...else Statement"
      ],
      "metadata": {
        "id": "JhkzXOcwwYSG"
      },
      "execution_count": null,
      "outputs": []
    },
    {
      "cell_type": "code",
      "source": [
        "score = 85\n",
        "\n",
        "if score >= 90:\n",
        "    print(\"Grade: A\")\n",
        "elif score >= 80:\n",
        "    print(\"Grade: B\")\n",
        "elif score >= 70:\n",
        "    print(\"Grade: C\")\n",
        "else:\n",
        "    print(\"Grade: F\")\n"
      ],
      "metadata": {
        "colab": {
          "base_uri": "https://localhost:8080/"
        },
        "id": "VsINvoeAwYVk",
        "outputId": "628e589c-d7af-457d-d089-985e02d7b35a"
      },
      "execution_count": 22,
      "outputs": [
        {
          "output_type": "stream",
          "name": "stdout",
          "text": [
            "Grade: B\n"
          ]
        }
      ]
    },
    {
      "cell_type": "markdown",
      "source": [
        "#7 Describe the different types of loops in Python and their use cases with examples.\n",
        "Ans: Python has two main loops: for and while. Their programming uses are unique from each other. For loop: It works best when looping types of sequences like lists, tuples, dictionaries, Python sets, and strings. While loop: It acts as long as the condition remains true.\n",
        "\n",
        "Example"
      ],
      "metadata": {
        "id": "CqxTTFZaxZJd"
      }
    },
    {
      "cell_type": "code",
      "source": [],
      "metadata": {
        "id": "8vhzWG6jxIm4"
      },
      "execution_count": null,
      "outputs": []
    }
  ]
}